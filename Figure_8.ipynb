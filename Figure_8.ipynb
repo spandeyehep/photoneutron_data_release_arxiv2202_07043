{
 "cells": [
  {
   "cell_type": "code",
   "execution_count": 1,
   "id": "0cf2e531",
   "metadata": {},
   "outputs": [
    {
     "name": "stdout",
     "output_type": "stream",
     "text": [
      "Welcome to JupyROOT 6.26/02\n"
     ]
    }
   ],
   "source": [
    "import pandas as pd\n",
    "import numpy as np\n",
    "import os,sys\n",
    "import ROOT as rt"
   ]
  },
  {
   "cell_type": "code",
   "execution_count": 43,
   "id": "2164aa70",
   "metadata": {},
   "outputs": [],
   "source": [
    "save_ = True"
   ]
  },
  {
   "cell_type": "code",
   "execution_count": 3,
   "id": "9c0c94ef",
   "metadata": {},
   "outputs": [
    {
     "data": {
      "text/html": [
       "<div>\n",
       "<style scoped>\n",
       "    .dataframe tbody tr th:only-of-type {\n",
       "        vertical-align: middle;\n",
       "    }\n",
       "\n",
       "    .dataframe tbody tr th {\n",
       "        vertical-align: top;\n",
       "    }\n",
       "\n",
       "    .dataframe thead th {\n",
       "        text-align: right;\n",
       "    }\n",
       "</style>\n",
       "<table border=\"1\" class=\"dataframe\">\n",
       "  <thead>\n",
       "    <tr style=\"text-align: right;\">\n",
       "      <th></th>\n",
       "      <th>0</th>\n",
       "      <th>1</th>\n",
       "      <th>2</th>\n",
       "      <th>3</th>\n",
       "      <th>4</th>\n",
       "      <th>5</th>\n",
       "      <th>6</th>\n",
       "      <th>7</th>\n",
       "      <th>8</th>\n",
       "      <th>9</th>\n",
       "      <th>10</th>\n",
       "      <th>11</th>\n",
       "      <th>12</th>\n",
       "    </tr>\n",
       "  </thead>\n",
       "  <tbody>\n",
       "    <tr>\n",
       "      <th>0</th>\n",
       "      <td>X_Result</td>\n",
       "      <td>Y_Result</td>\n",
       "      <td>ErrorXhigh_Result</td>\n",
       "      <td>ErrorXlow_Result</td>\n",
       "      <td>ErrorYhigh_Result</td>\n",
       "      <td>ErrorYlow_Result</td>\n",
       "      <td>X_Uncertainty</td>\n",
       "      <td>Y_ExpStat</td>\n",
       "      <td>Y_SimStat</td>\n",
       "      <td>Y_BkgSys</td>\n",
       "      <td>Y_CutEffSys</td>\n",
       "      <td>Y_FanoSys</td>\n",
       "      <td>Y_NeutronXsecSys</td>\n",
       "    </tr>\n",
       "    <tr>\n",
       "      <th>1</th>\n",
       "      <td>0.39</td>\n",
       "      <td>0.0435803</td>\n",
       "      <td>0.003305</td>\n",
       "      <td>0.003305</td>\n",
       "      <td>0.00859725</td>\n",
       "      <td>0.00921734</td>\n",
       "      <td>0.39</td>\n",
       "      <td>0.00450636</td>\n",
       "      <td>0.0047183</td>\n",
       "      <td>0.00499212</td>\n",
       "      <td>0.00522813</td>\n",
       "      <td>0.00571165</td>\n",
       "      <td>0.00939081</td>\n",
       "    </tr>\n",
       "    <tr>\n",
       "      <th>2</th>\n",
       "      <td>0.396617</td>\n",
       "      <td>0.0437894</td>\n",
       "      <td>0.003305</td>\n",
       "      <td>0.003305</td>\n",
       "      <td>0.00860949</td>\n",
       "      <td>0.00923237</td>\n",
       "      <td>0.396617</td>\n",
       "      <td>0.00450898</td>\n",
       "      <td>0.00472103</td>\n",
       "      <td>0.0049954</td>\n",
       "      <td>0.00523185</td>\n",
       "      <td>0.00571776</td>\n",
       "      <td>0.00940684</td>\n",
       "    </tr>\n",
       "    <tr>\n",
       "      <th>3</th>\n",
       "      <td>0.403233</td>\n",
       "      <td>0.0440042</td>\n",
       "      <td>0.003305</td>\n",
       "      <td>0.003305</td>\n",
       "      <td>0.00862091</td>\n",
       "      <td>0.00924664</td>\n",
       "      <td>0.403233</td>\n",
       "      <td>0.00451087</td>\n",
       "      <td>0.00472298</td>\n",
       "      <td>0.00499796</td>\n",
       "      <td>0.00523483</td>\n",
       "      <td>0.00572321</td>\n",
       "      <td>0.00942215</td>\n",
       "    </tr>\n",
       "    <tr>\n",
       "      <th>4</th>\n",
       "      <td>0.40985</td>\n",
       "      <td>0.044218</td>\n",
       "      <td>0.003305</td>\n",
       "      <td>0.003305</td>\n",
       "      <td>0.00863209</td>\n",
       "      <td>0.00926066</td>\n",
       "      <td>0.40985</td>\n",
       "      <td>0.00451259</td>\n",
       "      <td>0.00472476</td>\n",
       "      <td>0.00500043</td>\n",
       "      <td>0.00523771</td>\n",
       "      <td>0.00572854</td>\n",
       "      <td>0.00943721</td>\n",
       "    </tr>\n",
       "  </tbody>\n",
       "</table>\n",
       "</div>"
      ],
      "text/plain": [
       "         0          1                  2                 3   \\\n",
       "0  X_Result   Y_Result  ErrorXhigh_Result  ErrorXlow_Result   \n",
       "1      0.39  0.0435803           0.003305          0.003305   \n",
       "2  0.396617  0.0437894           0.003305          0.003305   \n",
       "3  0.403233  0.0440042           0.003305          0.003305   \n",
       "4   0.40985   0.044218           0.003305          0.003305   \n",
       "\n",
       "                  4                 5              6           7           8   \\\n",
       "0  ErrorYhigh_Result  ErrorYlow_Result  X_Uncertainty   Y_ExpStat   Y_SimStat   \n",
       "1         0.00859725        0.00921734           0.39  0.00450636   0.0047183   \n",
       "2         0.00860949        0.00923237       0.396617  0.00450898  0.00472103   \n",
       "3         0.00862091        0.00924664       0.403233  0.00451087  0.00472298   \n",
       "4         0.00863209        0.00926066        0.40985  0.00451259  0.00472476   \n",
       "\n",
       "           9            10          11                12  \n",
       "0    Y_BkgSys  Y_CutEffSys   Y_FanoSys  Y_NeutronXsecSys  \n",
       "1  0.00499212   0.00522813  0.00571165        0.00939081  \n",
       "2   0.0049954   0.00523185  0.00571776        0.00940684  \n",
       "3  0.00499796   0.00523483  0.00572321        0.00942215  \n",
       "4  0.00500043   0.00523771  0.00572854        0.00943721  "
      ]
     },
     "execution_count": 3,
     "metadata": {},
     "output_type": "execute_result"
    }
   ],
   "source": [
    "data = pd.read_csv('Fig8_Result.txt', delimiter='\\t',header=None)\n",
    "data.head()"
   ]
  },
  {
   "cell_type": "code",
   "execution_count": 4,
   "id": "6e1fddf5",
   "metadata": {},
   "outputs": [
    {
     "data": {
      "text/html": [
       "<div>\n",
       "<style scoped>\n",
       "    .dataframe tbody tr th:only-of-type {\n",
       "        vertical-align: middle;\n",
       "    }\n",
       "\n",
       "    .dataframe tbody tr th {\n",
       "        vertical-align: top;\n",
       "    }\n",
       "\n",
       "    .dataframe thead th {\n",
       "        text-align: right;\n",
       "    }\n",
       "</style>\n",
       "<table border=\"1\" class=\"dataframe\">\n",
       "  <thead>\n",
       "    <tr style=\"text-align: right;\">\n",
       "      <th></th>\n",
       "      <th>X_Result</th>\n",
       "      <th>Y_Result</th>\n",
       "      <th>ErrorXhigh_Result</th>\n",
       "      <th>ErrorXlow_Result</th>\n",
       "      <th>ErrorYhigh_Result</th>\n",
       "      <th>ErrorYlow_Result</th>\n",
       "      <th>X_Uncertainty</th>\n",
       "      <th>Y_ExpStat</th>\n",
       "      <th>Y_SimStat</th>\n",
       "      <th>Y_BkgSys</th>\n",
       "      <th>Y_CutEffSys</th>\n",
       "      <th>Y_FanoSys</th>\n",
       "      <th>Y_NeutronXsecSys</th>\n",
       "    </tr>\n",
       "  </thead>\n",
       "  <tbody>\n",
       "    <tr>\n",
       "      <th>1</th>\n",
       "      <td>0.39</td>\n",
       "      <td>0.0435803</td>\n",
       "      <td>0.003305</td>\n",
       "      <td>0.003305</td>\n",
       "      <td>0.00859725</td>\n",
       "      <td>0.00921734</td>\n",
       "      <td>0.39</td>\n",
       "      <td>0.00450636</td>\n",
       "      <td>0.0047183</td>\n",
       "      <td>0.00499212</td>\n",
       "      <td>0.00522813</td>\n",
       "      <td>0.00571165</td>\n",
       "      <td>0.00939081</td>\n",
       "    </tr>\n",
       "    <tr>\n",
       "      <th>2</th>\n",
       "      <td>0.396617</td>\n",
       "      <td>0.0437894</td>\n",
       "      <td>0.003305</td>\n",
       "      <td>0.003305</td>\n",
       "      <td>0.00860949</td>\n",
       "      <td>0.00923237</td>\n",
       "      <td>0.396617</td>\n",
       "      <td>0.00450898</td>\n",
       "      <td>0.00472103</td>\n",
       "      <td>0.0049954</td>\n",
       "      <td>0.00523185</td>\n",
       "      <td>0.00571776</td>\n",
       "      <td>0.00940684</td>\n",
       "    </tr>\n",
       "    <tr>\n",
       "      <th>3</th>\n",
       "      <td>0.403233</td>\n",
       "      <td>0.0440042</td>\n",
       "      <td>0.003305</td>\n",
       "      <td>0.003305</td>\n",
       "      <td>0.00862091</td>\n",
       "      <td>0.00924664</td>\n",
       "      <td>0.403233</td>\n",
       "      <td>0.00451087</td>\n",
       "      <td>0.00472298</td>\n",
       "      <td>0.00499796</td>\n",
       "      <td>0.00523483</td>\n",
       "      <td>0.00572321</td>\n",
       "      <td>0.00942215</td>\n",
       "    </tr>\n",
       "    <tr>\n",
       "      <th>4</th>\n",
       "      <td>0.40985</td>\n",
       "      <td>0.044218</td>\n",
       "      <td>0.003305</td>\n",
       "      <td>0.003305</td>\n",
       "      <td>0.00863209</td>\n",
       "      <td>0.00926066</td>\n",
       "      <td>0.40985</td>\n",
       "      <td>0.00451259</td>\n",
       "      <td>0.00472476</td>\n",
       "      <td>0.00500043</td>\n",
       "      <td>0.00523771</td>\n",
       "      <td>0.00572854</td>\n",
       "      <td>0.00943721</td>\n",
       "    </tr>\n",
       "    <tr>\n",
       "      <th>5</th>\n",
       "      <td>0.416466</td>\n",
       "      <td>0.0444308</td>\n",
       "      <td>0.003305</td>\n",
       "      <td>0.003305</td>\n",
       "      <td>0.00864304</td>\n",
       "      <td>0.00927444</td>\n",
       "      <td>0.416466</td>\n",
       "      <td>0.00451416</td>\n",
       "      <td>0.00472638</td>\n",
       "      <td>0.0050028</td>\n",
       "      <td>0.00524049</td>\n",
       "      <td>0.00573376</td>\n",
       "      <td>0.00945201</td>\n",
       "    </tr>\n",
       "  </tbody>\n",
       "</table>\n",
       "</div>"
      ],
      "text/plain": [
       "   X_Result   Y_Result ErrorXhigh_Result ErrorXlow_Result ErrorYhigh_Result  \\\n",
       "1      0.39  0.0435803          0.003305         0.003305        0.00859725   \n",
       "2  0.396617  0.0437894          0.003305         0.003305        0.00860949   \n",
       "3  0.403233  0.0440042          0.003305         0.003305        0.00862091   \n",
       "4   0.40985   0.044218          0.003305         0.003305        0.00863209   \n",
       "5  0.416466  0.0444308          0.003305         0.003305        0.00864304   \n",
       "\n",
       "  ErrorYlow_Result X_Uncertainty   Y_ExpStat   Y_SimStat    Y_BkgSys  \\\n",
       "1       0.00921734          0.39  0.00450636   0.0047183  0.00499212   \n",
       "2       0.00923237      0.396617  0.00450898  0.00472103   0.0049954   \n",
       "3       0.00924664      0.403233  0.00451087  0.00472298  0.00499796   \n",
       "4       0.00926066       0.40985  0.00451259  0.00472476  0.00500043   \n",
       "5       0.00927444      0.416466  0.00451416  0.00472638   0.0050028   \n",
       "\n",
       "  Y_CutEffSys   Y_FanoSys Y_NeutronXsecSys  \n",
       "1  0.00522813  0.00571165       0.00939081  \n",
       "2  0.00523185  0.00571776       0.00940684  \n",
       "3  0.00523483  0.00572321       0.00942215  \n",
       "4  0.00523771  0.00572854       0.00943721  \n",
       "5  0.00524049  0.00573376       0.00945201  "
      ]
     },
     "execution_count": 4,
     "metadata": {},
     "output_type": "execute_result"
    }
   ],
   "source": [
    "data.columns = [i for i in data.iloc[0]]\n",
    "title = [i for i in data.iloc[0]]\n",
    "data = data.drop([0])\n",
    "data.head()"
   ]
  },
  {
   "cell_type": "code",
   "execution_count": 5,
   "id": "d8c55612",
   "metadata": {},
   "outputs": [
    {
     "data": {
      "text/plain": [
       "['X_Result',\n",
       " 'Y_Result',\n",
       " 'ErrorXhigh_Result',\n",
       " 'ErrorXlow_Result',\n",
       " 'ErrorYhigh_Result',\n",
       " 'ErrorYlow_Result',\n",
       " 'X_Uncertainty',\n",
       " 'Y_ExpStat',\n",
       " 'Y_SimStat',\n",
       " 'Y_BkgSys',\n",
       " 'Y_CutEffSys',\n",
       " 'Y_FanoSys',\n",
       " 'Y_NeutronXsecSys']"
      ]
     },
     "execution_count": 5,
     "metadata": {},
     "output_type": "execute_result"
    }
   ],
   "source": [
    "title"
   ]
  },
  {
   "cell_type": "code",
   "execution_count": 8,
   "id": "aa51aba8",
   "metadata": {},
   "outputs": [],
   "source": [
    "i = 'Result'\n",
    "non_null = data['X_%s'%(i)].notna()\n",
    "x = pd.to_numeric(data['X_%s'%(i)][non_null], errors='coerce')\n",
    "y = pd.to_numeric(data['Y_%s'%(i)][non_null], errors='coerce')\n",
    "exh = pd.to_numeric(data['ErrorXhigh_%s'%(i)][non_null], errors='coerce')\n",
    "exl = pd.to_numeric(data['ErrorXlow_%s'%(i)][non_null], errors='coerce')\n",
    "eyh = pd.to_numeric(data['ErrorYhigh_%s'%(i)][non_null], errors='coerce')\n",
    "eyl = pd.to_numeric(data['ErrorYlow_%s'%(i)][non_null], errors='coerce')\n",
    "\n",
    "temp_gr = rt.TGraphAsymmErrors()#(len(x),x,y,exl,exh,eyl,eyh)\n",
    "for k in range(len(x)):\n",
    "    temp_gr.SetPoint(k,(x.iloc[k]),y.iloc[k])\n",
    "    temp_gr.SetPointError(k,exl.iloc[k],exh.iloc[k],eyl.iloc[k],eyh.iloc[k])\n",
    "temp_gr.SetName(i)"
   ]
  },
  {
   "cell_type": "code",
   "execution_count": 44,
   "id": "efe2d364",
   "metadata": {},
   "outputs": [
    {
     "name": "stdout",
     "output_type": "stream",
     "text": [
      "Plots saved!!\n"
     ]
    },
    {
     "name": "stderr",
     "output_type": "stream",
     "text": [
      "Info in <TCanvas::Print>: png file ./plots/png/Fig_8a.png has been created\n",
      "Info in <TCanvas::Print>: pdf file ./plots/pdf/Fig_8a.pdf has been created\n"
     ]
    },
    {
     "data": {
      "image/png": "[encoded data removed]",
      "text/plain": [
       "<IPython.core.display.Image object>"
      ]
     },
     "metadata": {},
     "output_type": "display_data"
    }
   ],
   "source": [
    "c = rt.TCanvas()\n",
    "\n",
    "legend = rt.TLegend(0.6,0.3,0.85,0.2)\n",
    "#legend.SetNColumns(3)\n",
    "legend.SetBorderSize(0)\n",
    "\n",
    "temp_gr.SetFillStyle(3003)\n",
    "temp_gr.SetFillColor(rt.kRed-2)\n",
    "temp_gr.SetLineColor(rt.kBlack)\n",
    "temp_gr.SetMarkerColor(rt.kBlack)\n",
    "temp_gr.Draw('AL3')\n",
    "temp_gr.GetYaxis().SetRangeUser(0.04,0.26)\n",
    "temp_gr.GetXaxis().SetLimits(1., 7.)\n",
    "temp_gr.GetXaxis().SetTitle('Nuclear recoil energy [keV]')\n",
    "temp_gr.GetYaxis().SetTitle('ionization yield')\n",
    "\n",
    "legend.AddEntry(temp_gr,temp_gr.GetName(),'lf')\n",
    "\n",
    "legend.Draw()\n",
    "c.Draw()\n",
    "\n",
    "textOnTop = rt.TLatex()\n",
    "textOnTop.SetTextSize(0.05);\n",
    "\n",
    "textOnTop.DrawLatexNDC(0.2,0.8,\"#bf{(a)}\");\n",
    "\n",
    "if(save_):\n",
    "    c.SaveAs('./plots/png/Fig_8a.png')\n",
    "    c.SaveAs('./plots/pdf/Fig_8a.pdf')\n",
    "    print ('Plots saved!!')"
   ]
  },
  {
   "cell_type": "code",
   "execution_count": 21,
   "id": "3a7d632c",
   "metadata": {},
   "outputs": [
    {
     "data": {
      "text/plain": [
       "['X_Result',\n",
       " 'Y_Result',\n",
       " 'ErrorXhigh_Result',\n",
       " 'ErrorXlow_Result',\n",
       " 'ErrorYhigh_Result',\n",
       " 'ErrorYlow_Result',\n",
       " 'X_Uncertainty',\n",
       " 'Y_ExpStat',\n",
       " 'Y_SimStat',\n",
       " 'Y_BkgSys',\n",
       " 'Y_CutEffSys',\n",
       " 'Y_FanoSys',\n",
       " 'Y_NeutronXsecSys']"
      ]
     },
     "execution_count": 21,
     "metadata": {},
     "output_type": "execute_result"
    }
   ],
   "source": [
    "title"
   ]
  },
  {
   "cell_type": "code",
   "execution_count": 28,
   "id": "059cf789",
   "metadata": {},
   "outputs": [
    {
     "data": {
      "text/plain": [
       "['ExpStat', 'SimStat', 'BkgSys', 'CutEffSys', 'FanoSys', 'NeutronXsecSys']"
      ]
     },
     "execution_count": 28,
     "metadata": {},
     "output_type": "execute_result"
    }
   ],
   "source": [
    "cols = [i for i in title[7:]]\n",
    "cols\n",
    "legend_text = [i.split('_')[-1] for i in cols]\n",
    "legend_text"
   ]
  },
  {
   "cell_type": "code",
   "execution_count": 26,
   "id": "ed03f611",
   "metadata": {},
   "outputs": [
    {
     "name": "stdout",
     "output_type": "stream",
     "text": [
      "Graph Y_ExpStat\n",
      "Graph Y_SimStat\n",
      "Graph Y_BkgSys\n",
      "Graph Y_CutEffSys\n",
      "Graph Y_FanoSys\n",
      "Graph Y_NeutronXsecSys\n"
     ]
    }
   ],
   "source": [
    "non_null = data['X_Uncertainty'].notna()\n",
    "x = pd.to_numeric(data['X_Uncertainty'][non_null], errors='coerce')\n",
    "graphs = []\n",
    "for i in cols:\n",
    "    y = pd.to_numeric(data['%s'%(i)][non_null], errors='coerce')\n",
    "    if(len(x) != len(y)):\n",
    "        print('incompatible lengths for col %s'%(i))\n",
    "        break\n",
    "    gr = rt.TGraph()\n",
    "    for j in range(len(x)):\n",
    "        gr.SetPoint(j,x.iloc[j],y.iloc[j])\n",
    "    gr.SetName(i)\n",
    "    graphs.append(gr)\n",
    "    del gr\n",
    "    \n",
    "    \n",
    "for graph in graphs:\n",
    "    print('Graph: %s'%(graph.GetName()))"
   ]
  },
  {
   "cell_type": "code",
   "execution_count": 38,
   "id": "05c71bd2",
   "metadata": {},
   "outputs": [],
   "source": [
    "line_color = [rt.kCyan - 2, rt.kGray, rt.kYellow+2, rt.kGreen, rt.kMagenta, rt.kRed+2]"
   ]
  },
  {
   "cell_type": "code",
   "execution_count": 45,
   "id": "18585f60",
   "metadata": {},
   "outputs": [
    {
     "name": "stdout",
     "output_type": "stream",
     "text": [
      "Plots saved!!\n"
     ]
    },
    {
     "name": "stderr",
     "output_type": "stream",
     "text": [
      "Info in <TCanvas::Print>: png file ./plots/png/Fig_8b.png has been created\n",
      "Info in <TCanvas::Print>: pdf file ./plots/pdf/Fig_8b.pdf has been created\n"
     ]
    },
    {
     "data": {
      "image/png": "[encoded data removed]",
      "text/plain": [
       "<IPython.core.display.Image object>"
      ]
     },
     "metadata": {},
     "output_type": "display_data"
    }
   ],
   "source": [
    "legend = rt.TLegend(0.12,0.88,0.75,0.7)\n",
    "legend.SetNColumns(2)\n",
    "legend.SetTextSize(0.04)\n",
    "legend.SetBorderSize(0)\n",
    "\n",
    "for i,graph in enumerate(graphs):\n",
    "    \n",
    "    graph.SetLineColor(line_color[i])\n",
    "    graph.SetLineWidth(2)\n",
    "    if(i == 0):\n",
    "        graph.Draw('AL')\n",
    "    else:\n",
    "        graph.Draw('L SAME')\n",
    "    graph.GetYaxis().SetRangeUser(0.,0.045)\n",
    "    graph.GetXaxis().SetLimits(1., 7.)\n",
    "    \n",
    "    graph.GetXaxis().SetTitle('Nuclear recoil energy [keV]')\n",
    "    graph.GetYaxis().SetTitle('Uncertainty')\n",
    "    \n",
    "    legend.AddEntry(graph,legend_text[i],'l')\n",
    "    \n",
    "\n",
    "legend.Draw()\n",
    "c.Draw()\n",
    "\n",
    "textOnTop = rt.TLatex()\n",
    "textOnTop.SetTextSize(0.05);\n",
    "\n",
    "textOnTop.DrawLatexNDC(0.8,0.8,\"#bf{(b)}\");\n",
    "\n",
    "if(save_):\n",
    "    c.SaveAs('./plots/png/Fig_8b.png')\n",
    "    c.SaveAs('./plots/pdf/Fig_8b.pdf')\n",
    "    print ('Plots saved!!')"
   ]
  },
  {
   "cell_type": "code",
   "execution_count": null,
   "id": "653661cb",
   "metadata": {},
   "outputs": [],
   "source": []
  }
 ],
 "metadata": {
  "kernelspec": {
   "display_name": "Python 3 (ipykernel)",
   "language": "python",
   "name": "python3"
  },
  "language_info": {
   "codemirror_mode": {
    "name": "ipython",
    "version": 3
   },
   "file_extension": ".py",
   "mimetype": "text/x-python",
   "name": "python",
   "nbconvert_exporter": "python",
   "pygments_lexer": "ipython3",
   "version": "3.10.0"
  }
 },
 "nbformat": 4,
 "nbformat_minor": 5
}
