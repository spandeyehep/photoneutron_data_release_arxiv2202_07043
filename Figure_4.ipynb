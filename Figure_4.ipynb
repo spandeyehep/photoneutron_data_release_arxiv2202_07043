{
 "cells": [
  {
   "cell_type": "code",
   "execution_count": 1,
   "id": "606a8907",
   "metadata": {},
   "outputs": [
    {
     "name": "stdout",
     "output_type": "stream",
     "text": [
      "Welcome to JupyROOT 6.26/02\n"
     ]
    }
   ],
   "source": [
    "import pandas as pd\n",
    "import numpy as np\n",
    "import os,sys\n",
    "import ROOT as rt"
   ]
  },
  {
   "cell_type": "code",
   "execution_count": 41,
   "id": "f37959c1",
   "metadata": {},
   "outputs": [],
   "source": [
    "save_ = True"
   ]
  },
  {
   "cell_type": "code",
   "execution_count": 2,
   "id": "884fc43c",
   "metadata": {},
   "outputs": [
    {
     "data": {
      "text/html": [
       "<div>\n",
       "<style scoped>\n",
       "    .dataframe tbody tr th:only-of-type {\n",
       "        vertical-align: middle;\n",
       "    }\n",
       "\n",
       "    .dataframe tbody tr th {\n",
       "        vertical-align: top;\n",
       "    }\n",
       "\n",
       "    .dataframe thead th {\n",
       "        text-align: right;\n",
       "    }\n",
       "</style>\n",
       "<table border=\"1\" class=\"dataframe\">\n",
       "  <thead>\n",
       "    <tr style=\"text-align: right;\">\n",
       "      <th></th>\n",
       "      <th>0</th>\n",
       "      <th>1</th>\n",
       "      <th>2</th>\n",
       "      <th>3</th>\n",
       "      <th>4</th>\n",
       "      <th>5</th>\n",
       "      <th>6</th>\n",
       "      <th>7</th>\n",
       "      <th>8</th>\n",
       "      <th>9</th>\n",
       "    </tr>\n",
       "  </thead>\n",
       "  <tbody>\n",
       "    <tr>\n",
       "      <th>0</th>\n",
       "      <td>X_SbBe</td>\n",
       "      <td>Y_SbBeER</td>\n",
       "      <td>Y_SbBeNRsingle</td>\n",
       "      <td>Y_SbBeNRmultiple</td>\n",
       "      <td>Y_SbBeAll</td>\n",
       "      <td>X_YBe</td>\n",
       "      <td>Y_YBeER</td>\n",
       "      <td>Y_YBeNRsingle</td>\n",
       "      <td>Y_YBeNRmultiple</td>\n",
       "      <td>Y_YBeAll</td>\n",
       "    </tr>\n",
       "    <tr>\n",
       "      <th>1</th>\n",
       "      <td>0.025</td>\n",
       "      <td>208735</td>\n",
       "      <td>37515</td>\n",
       "      <td>31358</td>\n",
       "      <td>398421</td>\n",
       "      <td>0.05</td>\n",
       "      <td>300899</td>\n",
       "      <td>47499</td>\n",
       "      <td>41369</td>\n",
       "      <td>551527</td>\n",
       "    </tr>\n",
       "    <tr>\n",
       "      <th>2</th>\n",
       "      <td>0.075</td>\n",
       "      <td>10</td>\n",
       "      <td>5950</td>\n",
       "      <td>2959</td>\n",
       "      <td>10216</td>\n",
       "      <td>0.15</td>\n",
       "      <td>23</td>\n",
       "      <td>5542</td>\n",
       "      <td>2845</td>\n",
       "      <td>10870</td>\n",
       "    </tr>\n",
       "    <tr>\n",
       "      <th>3</th>\n",
       "      <td>0.125</td>\n",
       "      <td>13</td>\n",
       "      <td>4578</td>\n",
       "      <td>1898</td>\n",
       "      <td>7610</td>\n",
       "      <td>0.25</td>\n",
       "      <td>20</td>\n",
       "      <td>4196</td>\n",
       "      <td>1797</td>\n",
       "      <td>7801</td>\n",
       "    </tr>\n",
       "    <tr>\n",
       "      <th>4</th>\n",
       "      <td>0.175</td>\n",
       "      <td>6</td>\n",
       "      <td>3965</td>\n",
       "      <td>1558</td>\n",
       "      <td>6594</td>\n",
       "      <td>0.35</td>\n",
       "      <td>21</td>\n",
       "      <td>3614</td>\n",
       "      <td>1522</td>\n",
       "      <td>6557</td>\n",
       "    </tr>\n",
       "  </tbody>\n",
       "</table>\n",
       "</div>"
      ],
      "text/plain": [
       "        0         1               2                 3          4      5  \\\n",
       "0  X_SbBe  Y_SbBeER  Y_SbBeNRsingle  Y_SbBeNRmultiple  Y_SbBeAll  X_YBe   \n",
       "1   0.025    208735           37515             31358     398421   0.05   \n",
       "2   0.075        10            5950              2959      10216   0.15   \n",
       "3   0.125        13            4578              1898       7610   0.25   \n",
       "4   0.175         6            3965              1558       6594   0.35   \n",
       "\n",
       "         6              7                8         9  \n",
       "0  Y_YBeER  Y_YBeNRsingle  Y_YBeNRmultiple  Y_YBeAll  \n",
       "1   300899          47499            41369    551527  \n",
       "2       23           5542             2845     10870  \n",
       "3       20           4196             1797      7801  \n",
       "4       21           3614             1522      6557  "
      ]
     },
     "execution_count": 2,
     "metadata": {},
     "output_type": "execute_result"
    }
   ],
   "source": [
    "data = pd.read_csv('Fig4_Simulated_NeutronDistributions.txt', delimiter='\\t',header=None)\n",
    "data.head()"
   ]
  },
  {
   "cell_type": "code",
   "execution_count": 3,
   "id": "24617aa5",
   "metadata": {},
   "outputs": [
    {
     "data": {
      "text/html": [
       "<div>\n",
       "<style scoped>\n",
       "    .dataframe tbody tr th:only-of-type {\n",
       "        vertical-align: middle;\n",
       "    }\n",
       "\n",
       "    .dataframe tbody tr th {\n",
       "        vertical-align: top;\n",
       "    }\n",
       "\n",
       "    .dataframe thead th {\n",
       "        text-align: right;\n",
       "    }\n",
       "</style>\n",
       "<table border=\"1\" class=\"dataframe\">\n",
       "  <thead>\n",
       "    <tr style=\"text-align: right;\">\n",
       "      <th></th>\n",
       "      <th>X_SbBe</th>\n",
       "      <th>Y_SbBeER</th>\n",
       "      <th>Y_SbBeNRsingle</th>\n",
       "      <th>Y_SbBeNRmultiple</th>\n",
       "      <th>Y_SbBeAll</th>\n",
       "      <th>X_YBe</th>\n",
       "      <th>Y_YBeER</th>\n",
       "      <th>Y_YBeNRsingle</th>\n",
       "      <th>Y_YBeNRmultiple</th>\n",
       "      <th>Y_YBeAll</th>\n",
       "    </tr>\n",
       "  </thead>\n",
       "  <tbody>\n",
       "    <tr>\n",
       "      <th>1</th>\n",
       "      <td>0.025</td>\n",
       "      <td>208735</td>\n",
       "      <td>37515</td>\n",
       "      <td>31358</td>\n",
       "      <td>398421</td>\n",
       "      <td>0.05</td>\n",
       "      <td>300899</td>\n",
       "      <td>47499</td>\n",
       "      <td>41369</td>\n",
       "      <td>551527</td>\n",
       "    </tr>\n",
       "    <tr>\n",
       "      <th>2</th>\n",
       "      <td>0.075</td>\n",
       "      <td>10</td>\n",
       "      <td>5950</td>\n",
       "      <td>2959</td>\n",
       "      <td>10216</td>\n",
       "      <td>0.15</td>\n",
       "      <td>23</td>\n",
       "      <td>5542</td>\n",
       "      <td>2845</td>\n",
       "      <td>10870</td>\n",
       "    </tr>\n",
       "    <tr>\n",
       "      <th>3</th>\n",
       "      <td>0.125</td>\n",
       "      <td>13</td>\n",
       "      <td>4578</td>\n",
       "      <td>1898</td>\n",
       "      <td>7610</td>\n",
       "      <td>0.25</td>\n",
       "      <td>20</td>\n",
       "      <td>4196</td>\n",
       "      <td>1797</td>\n",
       "      <td>7801</td>\n",
       "    </tr>\n",
       "    <tr>\n",
       "      <th>4</th>\n",
       "      <td>0.175</td>\n",
       "      <td>6</td>\n",
       "      <td>3965</td>\n",
       "      <td>1558</td>\n",
       "      <td>6594</td>\n",
       "      <td>0.35</td>\n",
       "      <td>21</td>\n",
       "      <td>3614</td>\n",
       "      <td>1522</td>\n",
       "      <td>6557</td>\n",
       "    </tr>\n",
       "    <tr>\n",
       "      <th>5</th>\n",
       "      <td>0.225</td>\n",
       "      <td>12</td>\n",
       "      <td>3892</td>\n",
       "      <td>1525</td>\n",
       "      <td>6311</td>\n",
       "      <td>0.45</td>\n",
       "      <td>21</td>\n",
       "      <td>3025</td>\n",
       "      <td>1332</td>\n",
       "      <td>5476</td>\n",
       "    </tr>\n",
       "  </tbody>\n",
       "</table>\n",
       "</div>"
      ],
      "text/plain": [
       "  X_SbBe Y_SbBeER Y_SbBeNRsingle Y_SbBeNRmultiple Y_SbBeAll X_YBe Y_YBeER  \\\n",
       "1  0.025   208735          37515            31358    398421  0.05  300899   \n",
       "2  0.075       10           5950             2959     10216  0.15      23   \n",
       "3  0.125       13           4578             1898      7610  0.25      20   \n",
       "4  0.175        6           3965             1558      6594  0.35      21   \n",
       "5  0.225       12           3892             1525      6311  0.45      21   \n",
       "\n",
       "  Y_YBeNRsingle Y_YBeNRmultiple Y_YBeAll  \n",
       "1         47499           41369   551527  \n",
       "2          5542            2845    10870  \n",
       "3          4196            1797     7801  \n",
       "4          3614            1522     6557  \n",
       "5          3025            1332     5476  "
      ]
     },
     "execution_count": 3,
     "metadata": {},
     "output_type": "execute_result"
    }
   ],
   "source": [
    "data.columns = [i for i in data.iloc[0]]\n",
    "title = [i for i in data.iloc[0]]\n",
    "data = data.drop([0])\n",
    "data.head()"
   ]
  },
  {
   "cell_type": "code",
   "execution_count": 27,
   "id": "2324a71c",
   "metadata": {},
   "outputs": [],
   "source": [
    "sources = ['SbBe','YBe']\n",
    "interactions = ['ER','NRmultiple','NRsingle','All']\n",
    "legend_text = {\n",
    "    interactions[0] : 'Neutron induced ER',\n",
    "    interactions[1] : 'Mutiple scatter NR',\n",
    "    interactions[2] : 'Single scatter NR',\n",
    "    interactions[3] : 'All'\n",
    "}\n",
    "hist_att = {\n",
    "    sources[0] : [100, 0, 5], #0.05 keV bin width for Sb\n",
    "    sources[1] : [150, 0, 15] #0.01 keV bin width for Y\n",
    "}"
   ]
  },
  {
   "cell_type": "code",
   "execution_count": 28,
   "id": "c8edd524",
   "metadata": {},
   "outputs": [
    {
     "name": "stdout",
     "output_type": "stream",
     "text": [
      "Filling info for SbBeER ...\n",
      "Filling info for SbBeNRmultiple ...\n",
      "Filling info for SbBeNRsingle ...\n",
      "Filling info for SbBeAll ...\n",
      "Filling info for YBeER ...\n",
      "Filling info for YBeNRmultiple ...\n",
      "Filling info for YBeNRsingle ...\n",
      "Filling info for YBeAll ...\n",
      "Done!!\n",
      "ER\n",
      "NRmultiple\n",
      "NRsingle\n",
      "All\n"
     ]
    },
    {
     "name": "stderr",
     "output_type": "stream",
     "text": [
      "Warning in <TROOT::Append>: Replacing existing TH1: ER (Potential memory leak).\n",
      "Warning in <TROOT::Append>: Replacing existing TH1: NRmultiple (Potential memory leak).\n",
      "Warning in <TROOT::Append>: Replacing existing TH1: NRsingle (Potential memory leak).\n",
      "Warning in <TROOT::Append>: Replacing existing TH1: All (Potential memory leak).\n"
     ]
    }
   ],
   "source": [
    "hists_Sb = []\n",
    "hists_Y = []\n",
    "\n",
    "for source in sources:\n",
    "    non_null = data['X_%s'%(source)].notna()\n",
    "    bincenter = pd.to_numeric(data['X_%s'%(source)][non_null], errors='coerce')\n",
    "    \n",
    "    #print (bincenter)\n",
    "    for interaction in interactions:\n",
    "        col = source+interaction\n",
    "        bincontent = pd.to_numeric(data['Y_%s'%(col)][non_null], errors='coerce')\n",
    "        if(len(bincenter) != len(bincontent)):\n",
    "            print('lengths not equal for %s'%(col))\n",
    "            sys.exit()\n",
    "        \n",
    "        print ('Filling info for %s ...'%(col))\n",
    "        xbins = (hist_att[source])[0]\n",
    "        xmin = (hist_att[source])[1]\n",
    "        xmax = (hist_att[source])[2]\n",
    "        temp_hist = rt.TH1F(interaction,interaction,int(xbins),xmin,xmax)\n",
    "        temp_hist.SetName(interaction)\n",
    "        bin_ = 1\n",
    "        while(bin_ <= temp_hist.GetNbinsX()):\n",
    "            temp_hist.SetBinContent(bin_,bincontent.iloc[bin_-1])\n",
    "            bin_ += 1\n",
    "        if(source == 'SbBe'):\n",
    "            hists_Sb.append(temp_hist)\n",
    "        else:\n",
    "            hists_Y.append(temp_hist)\n",
    "        del temp_hist\n",
    "\n",
    "        \n",
    "print('Done!!')\n",
    "\n",
    "for hist in hists_Sb:\n",
    "    print(hist.GetName())\n",
    "        "
   ]
  },
  {
   "cell_type": "code",
   "execution_count": 30,
   "id": "c2311507",
   "metadata": {},
   "outputs": [],
   "source": [
    "line_color = [rt.kBlue, rt.kGreen, rt.kRed, rt.kBlack]"
   ]
  },
  {
   "cell_type": "code",
   "execution_count": 42,
   "id": "1f03f834",
   "metadata": {},
   "outputs": [
    {
     "name": "stdout",
     "output_type": "stream",
     "text": [
      "ER\n",
      "NRmultiple\n",
      "NRsingle\n",
      "All\n",
      "Plots saved!!\n"
     ]
    },
    {
     "name": "stderr",
     "output_type": "stream",
     "text": [
      "Info in <TCanvas::Print>: png file ./plots/png/Fig_4a.png has been created\n",
      "Info in <TCanvas::Print>: pdf file ./plots/pdf/Fig_4a.pdf has been created\n"
     ]
    },
    {
     "data": {
      "image/png": "[encoded data removed]",
      "text/plain": [
       "<IPython.core.display.Image object>"
      ]
     },
     "metadata": {},
     "output_type": "display_data"
    }
   ],
   "source": [
    "c = rt.TCanvas()\n",
    "rt.gStyle.SetOptStat(0)\n",
    "count = 0\n",
    "legend = rt.TLegend(0.4,0.85,0.9,0.6)\n",
    "legend.SetBorderSize(0)\n",
    "\n",
    "for i,hist in enumerate(hists_Sb):\n",
    "    hist.SetLineColor(line_color[i])\n",
    "    hist.SetLineWidth(2)\n",
    "    hist.GetXaxis().SetTitle('Nuclear recoil energy [keV]')\n",
    "    hist.GetYaxis().SetTitle('Counts/%0.2f keV'%(hist_att['SbBe'][2]/hist_att['SbBe'][0]))\n",
    "    hist.GetYaxis().SetRangeUser(1,1.e5)\n",
    "    hist.SetTitle('')\n",
    "    if(count == 0):\n",
    "        hist.Draw()\n",
    "        count += 1\n",
    "    else:\n",
    "        hist.Draw('SAME')\n",
    "    legend.AddEntry(hist,legend_text[hist.GetName()],'l')\n",
    "    print(hist.GetName())\n",
    "\n",
    "legend.Draw()\n",
    "c.Draw()\n",
    "rt.gPad.SetLogy()\n",
    "\n",
    "textOnTop = rt.TLatex()\n",
    "textOnTop.SetTextSize(0.05);\n",
    "textOnTop.DrawLatexNDC(0.2,0.85,\"#bf{(a)}\");\n",
    "\n",
    "\n",
    "textOnTop.DrawLatexNDC(0.2,0.75,\"#bf{SbBe}\");\n",
    "\n",
    "if(save_):\n",
    "    c.SaveAs('./plots/png/Fig_4a.png')\n",
    "    c.SaveAs('./plots/pdf/Fig_4a.pdf')\n",
    "    print ('Plots saved!!')"
   ]
  },
  {
   "cell_type": "code",
   "execution_count": 44,
   "id": "afa29702",
   "metadata": {},
   "outputs": [
    {
     "name": "stdout",
     "output_type": "stream",
     "text": [
      "ER\n",
      "NRmultiple\n",
      "NRsingle\n",
      "All\n",
      "Plots saved!!\n"
     ]
    },
    {
     "name": "stderr",
     "output_type": "stream",
     "text": [
      "Info in <TCanvas::Print>: png file ./plots/png/Fig_4b.png has been created\n",
      "Info in <TCanvas::Print>: pdf file ./plots/pdf/Fig_4b.pdf has been created\n"
     ]
    },
    {
     "data": {
      "image/png": "[encoded data removed]",
      "text/plain": [
       "<IPython.core.display.Image object>"
      ]
     },
     "metadata": {},
     "output_type": "display_data"
    }
   ],
   "source": [
    "c = rt.TCanvas()\n",
    "rt.gStyle.SetOptStat(0)\n",
    "count = 0\n",
    "legend = rt.TLegend(0.45,0.85,0.9,0.6)\n",
    "legend.SetBorderSize(0)\n",
    "\n",
    "for i,hist in enumerate(hists_Y):\n",
    "    hist.SetLineColor(line_color[i])\n",
    "    hist.SetLineWidth(2)\n",
    "    hist.GetXaxis().SetTitle('Nuclear recoil energy [keV]')\n",
    "    hist.GetYaxis().SetTitle('Counts/%0.1f keV'%(hist_att['YBe'][2]/hist_att['YBe'][0]))\n",
    "    hist.GetYaxis().SetRangeUser(1,1.e5)\n",
    "    hist.SetTitle('')\n",
    "    if(count == 0):\n",
    "        hist.Draw()\n",
    "        count += 1\n",
    "    else:\n",
    "        hist.Draw('SAME')\n",
    "    legend.AddEntry(hist,legend_text[hist.GetName()],'l')\n",
    "    print(hist.GetName())\n",
    "\n",
    "legend.Draw()\n",
    "c.Draw()\n",
    "rt.gPad.SetLogy()\n",
    "\n",
    "textOnTop = rt.TLatex()\n",
    "textOnTop.SetTextSize(0.05);\n",
    "textOnTop.DrawLatexNDC(0.2,0.85,\"#bf{(b)}\");\n",
    "\n",
    "\n",
    "textOnTop.DrawLatexNDC(0.2,0.75,\"#bf{YBe}\");\n",
    "\n",
    "if(save_):\n",
    "    c.SaveAs('./plots/png/Fig_4b.png')\n",
    "    c.SaveAs('./plots/pdf/Fig_4b.pdf')\n",
    "    print ('Plots saved!!')"
   ]
  },
  {
   "cell_type": "code",
   "execution_count": null,
   "id": "ca79c216",
   "metadata": {},
   "outputs": [],
   "source": []
  },
  {
   "cell_type": "code",
   "execution_count": null,
   "id": "272bccca",
   "metadata": {},
   "outputs": [],
   "source": []
  },
  {
   "cell_type": "code",
   "execution_count": null,
   "id": "e09db68e",
   "metadata": {},
   "outputs": [],
   "source": []
  },
  {
   "cell_type": "code",
   "execution_count": null,
   "id": "035efd99",
   "metadata": {},
   "outputs": [],
   "source": []
  },
  {
   "cell_type": "code",
   "execution_count": null,
   "id": "28ea0c32",
   "metadata": {},
   "outputs": [],
   "source": []
  },
  {
   "cell_type": "code",
   "execution_count": null,
   "id": "5eaaffc3",
   "metadata": {},
   "outputs": [],
   "source": []
  }
 ],
 "metadata": {
  "kernelspec": {
   "display_name": "Python 3 (ipykernel)",
   "language": "python",
   "name": "python3"
  },
  "language_info": {
   "codemirror_mode": {
    "name": "ipython",
    "version": 3
   },
   "file_extension": ".py",
   "mimetype": "text/x-python",
   "name": "python",
   "nbconvert_exporter": "python",
   "pygments_lexer": "ipython3",
   "version": "3.10.0"
  }
 },
 "nbformat": 4,
 "nbformat_minor": 5
}
