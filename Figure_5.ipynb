{
 "cells": [
  {
   "cell_type": "code",
   "execution_count": 1,
   "id": "a846553d",
   "metadata": {},
   "outputs": [
    {
     "name": "stdout",
     "output_type": "stream",
     "text": [
      "Welcome to JupyROOT 6.26/02\n"
     ]
    }
   ],
   "source": [
    "import pandas as pd\n",
    "import numpy as np\n",
    "import os,sys\n",
    "import ROOT as rt"
   ]
  },
  {
   "cell_type": "code",
   "execution_count": 19,
   "id": "8cf7a12f",
   "metadata": {},
   "outputs": [],
   "source": [
    "save_ = True"
   ]
  },
  {
   "cell_type": "code",
   "execution_count": 2,
   "id": "f2f78e76",
   "metadata": {},
   "outputs": [
    {
     "data": {
      "text/html": [
       "<div>\n",
       "<style scoped>\n",
       "    .dataframe tbody tr th:only-of-type {\n",
       "        vertical-align: middle;\n",
       "    }\n",
       "\n",
       "    .dataframe tbody tr th {\n",
       "        vertical-align: top;\n",
       "    }\n",
       "\n",
       "    .dataframe thead th {\n",
       "        text-align: right;\n",
       "    }\n",
       "</style>\n",
       "<table border=\"1\" class=\"dataframe\">\n",
       "  <thead>\n",
       "    <tr style=\"text-align: right;\">\n",
       "      <th></th>\n",
       "      <th>0</th>\n",
       "      <th>1</th>\n",
       "      <th>2</th>\n",
       "      <th>3</th>\n",
       "      <th>4</th>\n",
       "      <th>5</th>\n",
       "    </tr>\n",
       "  </thead>\n",
       "  <tbody>\n",
       "    <tr>\n",
       "      <th>0</th>\n",
       "      <td>X_Realization1</td>\n",
       "      <td>Y_Realization1</td>\n",
       "      <td>X_Realization2</td>\n",
       "      <td>Y_Realization2</td>\n",
       "      <td>X_Realization3</td>\n",
       "      <td>Y_Realization3</td>\n",
       "    </tr>\n",
       "    <tr>\n",
       "      <th>1</th>\n",
       "      <td>0.00000001</td>\n",
       "      <td>13.2096</td>\n",
       "      <td>0.00000001</td>\n",
       "      <td>12.5305</td>\n",
       "      <td>0.00000001</td>\n",
       "      <td>12.3995</td>\n",
       "    </tr>\n",
       "    <tr>\n",
       "      <th>2</th>\n",
       "      <td>0.0000000103125</td>\n",
       "      <td>13.2096</td>\n",
       "      <td>0.0000000103125</td>\n",
       "      <td>12.5305</td>\n",
       "      <td>0.0000000103125</td>\n",
       "      <td>12.3995</td>\n",
       "    </tr>\n",
       "    <tr>\n",
       "      <th>3</th>\n",
       "      <td>0.000000010625</td>\n",
       "      <td>13.2096</td>\n",
       "      <td>0.000000010625</td>\n",
       "      <td>12.5305</td>\n",
       "      <td>0.000000010625</td>\n",
       "      <td>12.3995</td>\n",
       "    </tr>\n",
       "    <tr>\n",
       "      <th>4</th>\n",
       "      <td>0.0000000109375</td>\n",
       "      <td>13.2096</td>\n",
       "      <td>0.0000000109375</td>\n",
       "      <td>12.5305</td>\n",
       "      <td>0.0000000109375</td>\n",
       "      <td>12.3995</td>\n",
       "    </tr>\n",
       "  </tbody>\n",
       "</table>\n",
       "</div>"
      ],
      "text/plain": [
       "                 0               1                2               3  \\\n",
       "0   X_Realization1  Y_Realization1   X_Realization2  Y_Realization2   \n",
       "1       0.00000001         13.2096       0.00000001         12.5305   \n",
       "2  0.0000000103125         13.2096  0.0000000103125         12.5305   \n",
       "3   0.000000010625         13.2096   0.000000010625         12.5305   \n",
       "4  0.0000000109375         13.2096  0.0000000109375         12.5305   \n",
       "\n",
       "                 4               5  \n",
       "0   X_Realization3  Y_Realization3  \n",
       "1       0.00000001         12.3995  \n",
       "2  0.0000000103125         12.3995  \n",
       "3   0.000000010625         12.3995  \n",
       "4  0.0000000109375         12.3995  "
      ]
     },
     "execution_count": 2,
     "metadata": {},
     "output_type": "execute_result"
    }
   ],
   "source": [
    "data = pd.read_csv('Fig5_NeutronXsecs_Realizations.txt', delimiter='\\t',header=None)\n",
    "data.head()"
   ]
  },
  {
   "cell_type": "code",
   "execution_count": 3,
   "id": "e844238c",
   "metadata": {},
   "outputs": [
    {
     "data": {
      "text/html": [
       "<div>\n",
       "<style scoped>\n",
       "    .dataframe tbody tr th:only-of-type {\n",
       "        vertical-align: middle;\n",
       "    }\n",
       "\n",
       "    .dataframe tbody tr th {\n",
       "        vertical-align: top;\n",
       "    }\n",
       "\n",
       "    .dataframe thead th {\n",
       "        text-align: right;\n",
       "    }\n",
       "</style>\n",
       "<table border=\"1\" class=\"dataframe\">\n",
       "  <thead>\n",
       "    <tr style=\"text-align: right;\">\n",
       "      <th></th>\n",
       "      <th>X_Realization1</th>\n",
       "      <th>Y_Realization1</th>\n",
       "      <th>X_Realization2</th>\n",
       "      <th>Y_Realization2</th>\n",
       "      <th>X_Realization3</th>\n",
       "      <th>Y_Realization3</th>\n",
       "    </tr>\n",
       "  </thead>\n",
       "  <tbody>\n",
       "    <tr>\n",
       "      <th>1</th>\n",
       "      <td>0.00000001</td>\n",
       "      <td>13.2096</td>\n",
       "      <td>0.00000001</td>\n",
       "      <td>12.5305</td>\n",
       "      <td>0.00000001</td>\n",
       "      <td>12.3995</td>\n",
       "    </tr>\n",
       "    <tr>\n",
       "      <th>2</th>\n",
       "      <td>0.0000000103125</td>\n",
       "      <td>13.2096</td>\n",
       "      <td>0.0000000103125</td>\n",
       "      <td>12.5305</td>\n",
       "      <td>0.0000000103125</td>\n",
       "      <td>12.3995</td>\n",
       "    </tr>\n",
       "    <tr>\n",
       "      <th>3</th>\n",
       "      <td>0.000000010625</td>\n",
       "      <td>13.2096</td>\n",
       "      <td>0.000000010625</td>\n",
       "      <td>12.5305</td>\n",
       "      <td>0.000000010625</td>\n",
       "      <td>12.3995</td>\n",
       "    </tr>\n",
       "    <tr>\n",
       "      <th>4</th>\n",
       "      <td>0.0000000109375</td>\n",
       "      <td>13.2096</td>\n",
       "      <td>0.0000000109375</td>\n",
       "      <td>12.5305</td>\n",
       "      <td>0.0000000109375</td>\n",
       "      <td>12.3995</td>\n",
       "    </tr>\n",
       "    <tr>\n",
       "      <th>5</th>\n",
       "      <td>0.00000001125</td>\n",
       "      <td>13.2096</td>\n",
       "      <td>0.00000001125</td>\n",
       "      <td>12.5305</td>\n",
       "      <td>0.00000001125</td>\n",
       "      <td>12.3995</td>\n",
       "    </tr>\n",
       "  </tbody>\n",
       "</table>\n",
       "</div>"
      ],
      "text/plain": [
       "    X_Realization1 Y_Realization1   X_Realization2 Y_Realization2  \\\n",
       "1       0.00000001        13.2096       0.00000001        12.5305   \n",
       "2  0.0000000103125        13.2096  0.0000000103125        12.5305   \n",
       "3   0.000000010625        13.2096   0.000000010625        12.5305   \n",
       "4  0.0000000109375        13.2096  0.0000000109375        12.5305   \n",
       "5    0.00000001125        13.2096    0.00000001125        12.5305   \n",
       "\n",
       "    X_Realization3 Y_Realization3  \n",
       "1       0.00000001        12.3995  \n",
       "2  0.0000000103125        12.3995  \n",
       "3   0.000000010625        12.3995  \n",
       "4  0.0000000109375        12.3995  \n",
       "5    0.00000001125        12.3995  "
      ]
     },
     "execution_count": 3,
     "metadata": {},
     "output_type": "execute_result"
    }
   ],
   "source": [
    "data.columns = [i for i in data.iloc[0]]\n",
    "title = [i for i in data.iloc[0]]\n",
    "data = data.drop([0])\n",
    "data.head()"
   ]
  },
  {
   "cell_type": "code",
   "execution_count": 4,
   "id": "6b11a177",
   "metadata": {},
   "outputs": [],
   "source": [
    "xsec = ['Realization1','Realization2','Realization3']"
   ]
  },
  {
   "cell_type": "code",
   "execution_count": 5,
   "id": "7c48e6d0",
   "metadata": {},
   "outputs": [
    {
     "name": "stdout",
     "output_type": "stream",
     "text": [
      "Done!\n",
      "Graph for Realization1\n",
      "Graph for Realization2\n",
      "Graph for Realization3\n"
     ]
    }
   ],
   "source": [
    "graphs = []\n",
    "for i in (xsec):\n",
    "    non_null = data['X_%s'%(i)].notna()\n",
    "    x = pd.to_numeric(data['X_%s'%(i)][non_null], errors='coerce')\n",
    "    y = pd.to_numeric(data['Y_%s'%(i)][non_null], errors='coerce')\n",
    "    temp_gr = rt.TGraph()\n",
    "    temp_gr.SetName(i)\n",
    "    for j in range(len(x)):\n",
    "        temp_gr.SetPoint(j,(x.iloc[j]),y.iloc[j])\n",
    "    graphs.append(temp_gr)\n",
    "    del temp_gr\n",
    "\n",
    "print('Done!')\n",
    "\n",
    "for gr in graphs:\n",
    "    print('Graph for %s'%(gr.GetName()))"
   ]
  },
  {
   "cell_type": "code",
   "execution_count": 6,
   "id": "fe743e8f",
   "metadata": {},
   "outputs": [],
   "source": [
    "line_color = [rt.kRed, rt.kGreen, rt.kBlue]"
   ]
  },
  {
   "cell_type": "code",
   "execution_count": 20,
   "id": "7acae0dc",
   "metadata": {},
   "outputs": [
    {
     "name": "stdout",
     "output_type": "stream",
     "text": [
      "0 : Graph for Realization1\n",
      "1 : Graph for Realization2\n",
      "2 : Graph for Realization3\n",
      "Plots saved!!\n"
     ]
    },
    {
     "name": "stderr",
     "output_type": "stream",
     "text": [
      "Info in <TCanvas::Print>: png file ./plots/png/Fig_5.png has been created\n",
      "Info in <TCanvas::Print>: pdf file ./plots/pdf/Fig_5.pdf has been created\n"
     ]
    },
    {
     "data": {
      "image/png": "[encoded data removed]",
      "text/plain": [
       "<IPython.core.display.Image object>"
      ]
     },
     "metadata": {},
     "output_type": "display_data"
    }
   ],
   "source": [
    "c = rt.TCanvas()\n",
    "count = 0\n",
    "legend = rt.TLegend(0.55,0.3,0.9,0.1)\n",
    "\n",
    "legend.SetBorderSize(0)\n",
    "\n",
    "for i,graph in enumerate(graphs):\n",
    "    print ('%d : Graph for %s'%(i,graph.GetName()))\n",
    "    graph.SetLineColor(line_color[i])\n",
    "    graph.SetLineWidth(2)\n",
    "    graph.GetYaxis().SetRangeUser(0.1,1.5e4)\n",
    "    graph.GetXaxis().SetLimits(0.5,2.e3)\n",
    "    \n",
    "    if(not count):\n",
    "        graph.Draw(\"AL3\")\n",
    "        count += 1\n",
    "    else:\n",
    "        graph.Draw(\"L3 SAME\")\n",
    "        \n",
    "    l1 = legend.AddEntry(graph,graph.GetName(),\"l\")\n",
    "    l1.SetTextColor(graph.GetMarkerColor())\n",
    "    \n",
    "    graph.GetXaxis().SetTitle('Neutron energy [keV]')\n",
    "    graph.GetYaxis().SetTitle('Cross-sections [barn]')\n",
    "    \n",
    "\n",
    "legend.Draw()\n",
    "c.Draw()\n",
    "rt.gPad.SetLogx()\n",
    "rt.gPad.SetLogy()\n",
    "\n",
    "if(save_):\n",
    "    c.SaveAs('./plots/png/Fig_5.png')\n",
    "    c.SaveAs('./plots/pdf/Fig_5.pdf')\n",
    "    print ('Plots saved!!')\n",
    "# textOnTop = rt.TLatex()\n",
    "# textOnTop.SetTextSize(0.05);\n",
    "# textOnTop.DrawLatexNDC(0.2,0.8,\"#bf{(b)}\");"
   ]
  },
  {
   "cell_type": "markdown",
   "id": "85facdc3",
   "metadata": {},
   "source": [
    "# Zoomed"
   ]
  },
  {
   "cell_type": "code",
   "execution_count": 21,
   "id": "d12d0794",
   "metadata": {},
   "outputs": [
    {
     "name": "stdout",
     "output_type": "stream",
     "text": [
      "0 : Graph for Realization1\n",
      "1 : Graph for Realization2\n",
      "2 : Graph for Realization3\n",
      "Plots saved!!\n"
     ]
    },
    {
     "name": "stderr",
     "output_type": "stream",
     "text": [
      "Info in <TCanvas::Print>: png file ./plots/png/Fig_5zoomed.png has been created\n",
      "Info in <TCanvas::Print>: pdf file ./plots/pdf/Fig_5zoomed.pdf has been created\n"
     ]
    },
    {
     "data": {
      "image/png": "[encoded data removed]",
      "text/plain": [
       "<IPython.core.display.Image object>"
      ]
     },
     "metadata": {},
     "output_type": "display_data"
    }
   ],
   "source": [
    "c = rt.TCanvas()\n",
    "count = 0\n",
    "legend = rt.TLegend(0.55,0.28,0.9,0.12)\n",
    "\n",
    "legend.SetBorderSize(0)\n",
    "\n",
    "for i,graph in enumerate(graphs):\n",
    "    print ('%d : Graph for %s'%(i,graph.GetName()))\n",
    "    graph.SetLineColor(line_color[i])\n",
    "    graph.SetLineWidth(2)\n",
    "    graph.GetYaxis().SetRangeUser(1,5e2)\n",
    "    graph.GetXaxis().SetLimits(8,22)\n",
    "    \n",
    "    if(not count):\n",
    "        graph.Draw(\"AL3\")\n",
    "        count += 1\n",
    "    else:\n",
    "        graph.Draw(\"L3 SAME\")\n",
    "        \n",
    "    l1 = legend.AddEntry(graph,graph.GetName(),\"l\")\n",
    "    l1.SetTextColor(graph.GetMarkerColor())\n",
    "    \n",
    "    graph.GetXaxis().SetTitle('Neutron energy [keV]')\n",
    "    graph.GetYaxis().SetTitle('Cross-sections [barn]')\n",
    "    \n",
    "\n",
    "legend.Draw()\n",
    "c.Draw()\n",
    "#rt.gPad.SetLogx()\n",
    "rt.gPad.SetLogy()\n",
    "\n",
    "# textOnTop = rt.TLatex()\n",
    "# textOnTop.SetTextSize(0.05);\n",
    "# textOnTop.DrawLatexNDC(0.2,0.8,\"#bf{(b)}\");\n",
    "if(save_):\n",
    "    c.SaveAs('./plots/png/Fig_5zoomed.png')\n",
    "    c.SaveAs('./plots/pdf/Fig_5zoomed.pdf')\n",
    "    print ('Plots saved!!')"
   ]
  },
  {
   "cell_type": "code",
   "execution_count": null,
   "id": "ca90cd49",
   "metadata": {},
   "outputs": [],
   "source": []
  }
 ],
 "metadata": {
  "kernelspec": {
   "display_name": "Python 3 (ipykernel)",
   "language": "python",
   "name": "python3"
  },
  "language_info": {
   "codemirror_mode": {
    "name": "ipython",
    "version": 3
   },
   "file_extension": ".py",
   "mimetype": "text/x-python",
   "name": "python",
   "nbconvert_exporter": "python",
   "pygments_lexer": "ipython3",
   "version": "3.10.0"
  }
 },
 "nbformat": 4,
 "nbformat_minor": 5
}
